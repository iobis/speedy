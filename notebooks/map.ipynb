{
 "cells": [
  {
   "cell_type": "code",
   "execution_count": null,
   "metadata": {},
   "outputs": [],
   "source": [
    "import geopandas as gpd\n",
    "import pandas as pd\n",
    "from lonboard import viz, Map, SolidPolygonLayer\n",
    "import numpy as np\n",
    "import h3pandas"
   ]
  },
  {
   "cell_type": "code",
   "execution_count": null,
   "metadata": {},
   "outputs": [],
   "source": [
    "gdf = gpd.read_parquet(\"~/Desktop/temp/summaries/summary_159559_poly.geoparquet\")\n",
    "offending = list(gdf.cx[179:180, -90:90].index) + list(gdf.cx[-180:-179, -90:90].index)\n",
    "gdf = gdf.loc[gdf.index.difference(offending), :]\n",
    "\n",
    "em = gdf[\"establishmentMeans\"].fillna(\"none\")\n",
    "color_map = {\n",
    "    \"native\": [171, 196, 147],\n",
    "    \"introduced\": [245, 66, 93],\n",
    "    \"uncertain\": [202, 117, 255],\n",
    "    \"none\": [237, 167, 69]\n",
    "}\n",
    "colors = np.array(em.map(color_map).values.tolist()).astype('uint8')\n",
    "polygon_layer = SolidPolygonLayer.from_geopandas(\n",
    "    gdf,\n",
    "    get_fill_color=colors,\n",
    "    opacity=0.3\n",
    ")\n",
    "Map([polygon_layer])"
   ]
  }
 ],
 "metadata": {
  "language_info": {
   "name": "python"
  }
 },
 "nbformat": 4,
 "nbformat_minor": 2
}
