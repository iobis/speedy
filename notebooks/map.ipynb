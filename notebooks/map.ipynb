{
 "cells": [
  {
   "cell_type": "code",
   "execution_count": null,
   "metadata": {},
   "outputs": [],
   "source": [
    "import geopandas as gpd\n",
    "import pandas as pd\n",
    "from lonboard import viz, Map, SolidPolygonLayer\n",
    "import numpy as np\n",
    "import h3pandas"
   ]
  },
  {
   "cell_type": "code",
   "execution_count": null,
   "metadata": {},
   "outputs": [],
   "source": [
    "gdf = gpd.read_parquet(\"~/Desktop/temp/summaries/summary_107451_poly.geoparquet\")\n",
    "offending = list(gdf.cx[179:180, -90:90].index) + list(gdf.cx[-180:-179, -90:90].index)\n",
    "gdf = gdf.loc[gdf.index.difference(offending), :]\n",
    "\n",
    "em = gdf[\"establishmentMeans\"].fillna(\"none\")\n",
    "color_map = {\n",
    "    \"native\": [171, 196, 147],\n",
    "    \"introduced\": [245, 66, 93],\n",
    "    \"uncertain\": [202, 117, 255],\n",
    "    \"none\": [237, 167, 69]\n",
    "}\n",
    "colors = np.array(em.map(color_map).values.tolist()).astype('uint8')\n",
    "polygon_layer = SolidPolygonLayer.from_geopandas(\n",
    "    gdf,\n",
    "    get_fill_color=colors,\n",
    "    opacity=0.3\n",
    ")\n",
    "map = Map([polygon_layer])\n",
    "map"
   ]
  },
  {
   "cell_type": "code",
   "execution_count": null,
   "metadata": {},
   "outputs": [],
   "source": [
    "with open(\"/Users/pieter/Desktop/map.html\", \"w\") as f:\n",
    "    f.write(map.as_html().data)"
   ]
  }
 ],
 "metadata": {
  "kernelspec": {
   "display_name": "Python 3",
   "language": "python",
   "name": "python3"
  },
  "language_info": {
   "codemirror_mode": {
    "name": "ipython",
    "version": 3
   },
   "file_extension": ".py",
   "mimetype": "text/x-python",
   "name": "python",
   "nbconvert_exporter": "python",
   "pygments_lexer": "ipython3",
   "version": "3.12.0"
  }
 },
 "nbformat": 4,
 "nbformat_minor": 2
}
